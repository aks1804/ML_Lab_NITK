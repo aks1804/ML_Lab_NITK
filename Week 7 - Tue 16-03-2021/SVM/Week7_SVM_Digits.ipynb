{
  "nbformat": 4,
  "nbformat_minor": 0,
  "metadata": {
    "colab": {
      "name": "Week7_SVM_Digits",
      "provenance": []
    },
    "kernelspec": {
      "name": "python3",
      "display_name": "Python 3"
    }
  },
  "cells": [
    {
      "cell_type": "markdown",
      "metadata": {
        "id": "5fHNCER1qVUw"
      },
      "source": [
        "### **SVM on Image Classification**"
      ]
    },
    {
      "cell_type": "code",
      "metadata": {
        "id": "ZstQgB3rH0CE"
      },
      "source": [
        "import pandas as pd\r\n",
        "import numpy as np\r\n",
        "import matplotlib.pyplot as plt"
      ],
      "execution_count": 4,
      "outputs": []
    },
    {
      "cell_type": "code",
      "metadata": {
        "id": "UEwvnLhjrwN-"
      },
      "source": [
        "from sklearn.datasets import load_digits"
      ],
      "execution_count": 8,
      "outputs": []
    },
    {
      "cell_type": "code",
      "metadata": {
        "colab": {
          "base_uri": "https://localhost:8080/"
        },
        "id": "sRsZZOgasRj9",
        "outputId": "cd2407e3-e765-4491-fe95-ec829eff5958"
      },
      "source": [
        "digits = load_digits()\r\n",
        "print('Digits dataset keys \\n{}'.format(digits.keys()))"
      ],
      "execution_count": 10,
      "outputs": [
        {
          "output_type": "stream",
          "text": [
            "Digits dataset keys \n",
            "dict_keys(['data', 'target', 'target_names', 'images', 'DESCR'])\n"
          ],
          "name": "stdout"
        }
      ]
    },
    {
      "cell_type": "code",
      "metadata": {
        "colab": {
          "base_uri": "https://localhost:8080/",
          "height": 222
        },
        "id": "JcBItUaOsolO",
        "outputId": "e292229d-d1fe-4337-e5b6-622ac00ba3ab"
      },
      "source": [
        "for i in range(0,10):\r\n",
        "    plt.subplot(2, 5, i+1)\r\n",
        "    plt.axis('off')\r\n",
        "    plt.imshow(digits.images[i], cmap=plt.cm.gray_r, interpolation='nearest')\r\n",
        "    plt.title('Training: {}'.format(digits.target[i]))\r\n",
        "plt.show()"
      ],
      "execution_count": 14,
      "outputs": [
        {
          "output_type": "display_data",
          "data": {
            "image/png": "[encoded data removed]",
            "text/plain": [
              "<Figure size 432x288 with 10 Axes>"
            ]
          },
          "metadata": {
            "tags": [],
            "needs_background": "light"
          }
        }
      ]
    },
    {
      "cell_type": "code",
      "metadata": {
        "id": "YybWA6dEtiBR"
      },
      "source": [
        "n_samples = len(digits.images)\r\n",
        "data_images = digits.images.reshape((n_samples, -1))"
      ],
      "execution_count": 15,
      "outputs": []
    },
    {
      "cell_type": "code",
      "metadata": {
        "id": "vKx1Oms1t1UO"
      },
      "source": [
        "from sklearn.model_selection import train_test_split\r\n",
        "from sklearn import svm"
      ],
      "execution_count": 16,
      "outputs": []
    },
    {
      "cell_type": "code",
      "metadata": {
        "id": "uaW_hgduuhpo"
      },
      "source": [
        "X_train, X_test, Y_train, Y_test = train_test_split(data_images, digits.target, test_size=0.4, random_state=0)\r\n",
        "SVM = svm.SVC(gamma=0.001)\r\n",
        "SVM.fit(X_train, Y_train)\r\n",
        "Y_pred = SVM.predict(X_test)"
      ],
      "execution_count": 25,
      "outputs": []
    },
    {
      "cell_type": "code",
      "metadata": {
        "colab": {
          "base_uri": "https://localhost:8080/",
          "height": 391
        },
        "id": "k6h98KFQtM7t",
        "outputId": "c20a6eb6-f724-4a93-ffcc-d6b279691619"
      },
      "source": [
        "predicted_df = pd.DataFrame({'Actual':Y_test, 'Predicted':Y_pred})\r\n",
        "predicted_df"
      ],
      "execution_count": 26,
      "outputs": [
        {
          "output_type": "execute_result",
          "data": {
            "text/html": [
              "<div>\n",
              "<style scoped>\n",
              "    .dataframe tbody tr th:only-of-type {\n",
              "        vertical-align: middle;\n",
              "    }\n",
              "\n",
              "    .dataframe tbody tr th {\n",
              "        vertical-align: top;\n",
              "    }\n",
              "\n",
              "    .dataframe thead th {\n",
              "        text-align: right;\n",
              "    }\n",
              "</style>\n",
              "<table border=\"1\" class=\"dataframe\">\n",
              "  <thead>\n",
              "    <tr style=\"text-align: right;\">\n",
              "      <th></th>\n",
              "      <th>Actual</th>\n",
              "      <th>Predicted</th>\n",
              "    </tr>\n",
              "  </thead>\n",
              "  <tbody>\n",
              "    <tr>\n",
              "      <th>0</th>\n",
              "      <td>2</td>\n",
              "      <td>2</td>\n",
              "    </tr>\n",
              "    <tr>\n",
              "      <th>1</th>\n",
              "      <td>8</td>\n",
              "      <td>8</td>\n",
              "    </tr>\n",
              "    <tr>\n",
              "      <th>2</th>\n",
              "      <td>2</td>\n",
              "      <td>2</td>\n",
              "    </tr>\n",
              "    <tr>\n",
              "      <th>3</th>\n",
              "      <td>6</td>\n",
              "      <td>6</td>\n",
              "    </tr>\n",
              "    <tr>\n",
              "      <th>4</th>\n",
              "      <td>6</td>\n",
              "      <td>6</td>\n",
              "    </tr>\n",
              "    <tr>\n",
              "      <th>...</th>\n",
              "      <td>...</td>\n",
              "      <td>...</td>\n",
              "    </tr>\n",
              "    <tr>\n",
              "      <th>714</th>\n",
              "      <td>7</td>\n",
              "      <td>7</td>\n",
              "    </tr>\n",
              "    <tr>\n",
              "      <th>715</th>\n",
              "      <td>5</td>\n",
              "      <td>5</td>\n",
              "    </tr>\n",
              "    <tr>\n",
              "      <th>716</th>\n",
              "      <td>2</td>\n",
              "      <td>2</td>\n",
              "    </tr>\n",
              "    <tr>\n",
              "      <th>717</th>\n",
              "      <td>7</td>\n",
              "      <td>7</td>\n",
              "    </tr>\n",
              "    <tr>\n",
              "      <th>718</th>\n",
              "      <td>8</td>\n",
              "      <td>8</td>\n",
              "    </tr>\n",
              "  </tbody>\n",
              "</table>\n",
              "<p>719 rows × 2 columns</p>\n",
              "</div>"
            ],
            "text/plain": [
              "     Actual  Predicted\n",
              "0         2          2\n",
              "1         8          8\n",
              "2         2          2\n",
              "3         6          6\n",
              "4         6          6\n",
              "..      ...        ...\n",
              "714       7          7\n",
              "715       5          5\n",
              "716       2          2\n",
              "717       7          7\n",
              "718       8          8\n",
              "\n",
              "[719 rows x 2 columns]"
            ]
          },
          "metadata": {
            "tags": []
          },
          "execution_count": 26
        }
      ]
    },
    {
      "cell_type": "code",
      "metadata": {
        "id": "db6SKJPhvjz5"
      },
      "source": [
        "from sklearn import metrics"
      ],
      "execution_count": 27,
      "outputs": []
    },
    {
      "cell_type": "code",
      "metadata": {
        "colab": {
          "base_uri": "https://localhost:8080/",
          "height": 486
        },
        "id": "Z3nq__lWvVMl",
        "outputId": "2331d328-0dd6-4b00-e33c-cac491a122c2"
      },
      "source": [
        "disp = metrics.plot_confusion_matrix(SVM, X_test, Y_test)\r\n",
        "disp.figure_.suptitle(\"Confusion Matrix\")\r\n",
        "print(f\"Confusion matrix:\\n{disp.confusion_matrix}\")\r\n",
        "\r\n",
        "plt.show()"
      ],
      "execution_count": 28,
      "outputs": [
        {
          "output_type": "stream",
          "text": [
            "Confusion matrix:\n",
            "[[60  0  0  0  0  0  0  0  0  0]\n",
            " [ 0 73  0  0  0  0  0  0  0  0]\n",
            " [ 0  1 69  0  0  0  0  1  0  0]\n",
            " [ 0  0  0 70  0  0  0  0  0  0]\n",
            " [ 0  0  0  0 63  0  0  0  0  0]\n",
            " [ 0  0  0  0  0 87  1  0  0  1]\n",
            " [ 0  0  0  0  0  0 76  0  0  0]\n",
            " [ 0  0  0  0  0  0  0 65  0  0]\n",
            " [ 0  1  0  0  0  0  0  0 77  0]\n",
            " [ 0  0  0  0  0  0  0  0  0 74]]\n"
          ],
          "name": "stdout"
        },
        {
          "output_type": "display_data",
          "data": {
            "image/png": "[encoded data removed]",
            "text/plain": [
              "<Figure size 432x288 with 2 Axes>"
            ]
          },
          "metadata": {
            "tags": [],
            "needs_background": "light"
          }
        }
      ]
    },
    {
      "cell_type": "code",
      "metadata": {
        "colab": {
          "base_uri": "https://localhost:8080/"
        },
        "id": "GWQuYJTgvhRF",
        "outputId": "2dfadcde-f9a0-467a-fb94-8c82a8c4aa79"
      },
      "source": [
        "print(\"Classification Report for SVM: \\n\", metrics.classification_report(Y_test, Y_pred))"
      ],
      "execution_count": 31,
      "outputs": [
        {
          "output_type": "stream",
          "text": [
            "Classification Report for SVM: \n",
            "               precision    recall  f1-score   support\n",
            "\n",
            "           0       1.00      1.00      1.00        60\n",
            "           1       0.97      1.00      0.99        73\n",
            "           2       1.00      0.97      0.99        71\n",
            "           3       1.00      1.00      1.00        70\n",
            "           4       1.00      1.00      1.00        63\n",
            "           5       1.00      0.98      0.99        89\n",
            "           6       0.99      1.00      0.99        76\n",
            "           7       0.98      1.00      0.99        65\n",
            "           8       1.00      0.99      0.99        78\n",
            "           9       0.99      1.00      0.99        74\n",
            "\n",
            "    accuracy                           0.99       719\n",
            "   macro avg       0.99      0.99      0.99       719\n",
            "weighted avg       0.99      0.99      0.99       719\n",
            "\n"
          ],
          "name": "stdout"
        }
      ]
    },
    {
      "cell_type": "code",
      "metadata": {
        "id": "bTqzgep9wDme"
      },
      "source": [
        ""
      ],
      "execution_count": null,
      "outputs": []
    }
  ]
}
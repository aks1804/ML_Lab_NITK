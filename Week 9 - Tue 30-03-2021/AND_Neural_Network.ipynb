{
  "nbformat": 4,
  "nbformat_minor": 0,
  "metadata": {
    "colab": {
      "name": "AND_Neural_Network.ipynb",
      "provenance": [],
      "collapsed_sections": []
    },
    "kernelspec": {
      "name": "python3",
      "display_name": "Python 3"
    },
    "language_info": {
      "name": "python"
    }
  },
  "cells": [
    {
      "cell_type": "markdown",
      "metadata": {
        "id": "Wffe3nUlnfVn"
      },
      "source": [
        "### **Neural Network for AND Gate**"
      ]
    },
    {
      "cell_type": "code",
      "metadata": {
        "id": "QTliOFVCdywL"
      },
      "source": [
        "import keras\n",
        "from keras import models\n",
        "from keras import layers\n",
        "from keras import losses \n",
        "from keras import optimizers\n",
        "from keras import metrics \n",
        "import numpy as np\n",
        "import pandas as pd"
      ],
      "execution_count": 3,
      "outputs": []
    },
    {
      "cell_type": "code",
      "metadata": {
        "id": "glOtiH54d6lE"
      },
      "source": [
        "X = np.random.randint(0, 2, (1000, 2))\n",
        "Y = X[:,0]*X[:,1]"
      ],
      "execution_count": 19,
      "outputs": []
    },
    {
      "cell_type": "code",
      "metadata": {
        "colab": {
          "base_uri": "https://localhost:8080/"
        },
        "id": "oAED7Sn4n_kd",
        "outputId": "07ff3fd6-d8df-4f75-e67b-c1d4bd06c78f"
      },
      "source": [
        "X"
      ],
      "execution_count": 20,
      "outputs": [
        {
          "output_type": "execute_result",
          "data": {
            "text/plain": [
              "array([[1, 0],\n",
              "       [0, 0],\n",
              "       [0, 1],\n",
              "       ...,\n",
              "       [0, 0],\n",
              "       [0, 1],\n",
              "       [0, 0]])"
            ]
          },
          "metadata": {
            "tags": []
          },
          "execution_count": 20
        }
      ]
    },
    {
      "cell_type": "code",
      "metadata": {
        "colab": {
          "base_uri": "https://localhost:8080/"
        },
        "id": "jHlVvnMVpICW",
        "outputId": "ed3e4aa7-b311-4c32-d207-43d02877a450"
      },
      "source": [
        "Y"
      ],
      "execution_count": 21,
      "outputs": [
        {
          "output_type": "execute_result",
          "data": {
            "text/plain": [
              "array([0, 0, 0, 0, 1, 1, 1, 0, 0, 0, 0, 0, 0, 0, 1, 1, 0, 0, 0, 0, 0, 0,\n",
              "       0, 0, 1, 0, 0, 0, 0, 0, 0, 1, 1, 1, 0, 0, 0, 0, 1, 0, 1, 1, 0, 0,\n",
              "       0, 0, 0, 0, 0, 1, 1, 1, 0, 0, 0, 0, 0, 0, 0, 0, 1, 0, 0, 0, 1, 0,\n",
              "       0, 1, 1, 1, 0, 1, 1, 0, 0, 0, 0, 0, 0, 0, 0, 0, 0, 0, 0, 0, 0, 0,\n",
              "       0, 0, 0, 1, 0, 0, 0, 0, 0, 0, 0, 0, 1, 0, 0, 0, 1, 0, 0, 0, 1, 1,\n",
              "       0, 0, 0, 0, 0, 1, 1, 1, 1, 0, 1, 0, 0, 0, 1, 1, 0, 0, 0, 0, 1, 0,\n",
              "       0, 1, 0, 1, 0, 0, 0, 0, 0, 0, 0, 0, 0, 0, 0, 0, 1, 0, 0, 1, 0, 0,\n",
              "       0, 0, 0, 1, 1, 0, 0, 1, 0, 0, 1, 0, 0, 1, 0, 0, 0, 0, 0, 0, 0, 1,\n",
              "       0, 0, 0, 1, 0, 0, 1, 1, 0, 0, 0, 0, 0, 1, 0, 0, 0, 0, 0, 0, 0, 1,\n",
              "       0, 1, 0, 0, 1, 0, 1, 0, 1, 0, 0, 0, 0, 0, 0, 0, 0, 0, 0, 0, 0, 0,\n",
              "       0, 0, 0, 0, 0, 1, 0, 1, 0, 1, 1, 0, 0, 0, 0, 0, 0, 0, 0, 0, 0, 0,\n",
              "       0, 0, 1, 1, 0, 0, 0, 0, 0, 0, 0, 0, 0, 0, 0, 0, 0, 0, 1, 0, 0, 0,\n",
              "       0, 1, 0, 1, 0, 0, 0, 1, 0, 0, 0, 0, 0, 0, 0, 0, 0, 0, 0, 1, 1, 1,\n",
              "       1, 0, 1, 0, 0, 0, 0, 0, 0, 1, 0, 0, 0, 0, 0, 0, 0, 0, 1, 0, 0, 0,\n",
              "       0, 0, 0, 1, 0, 1, 1, 1, 0, 0, 0, 0, 1, 0, 1, 0, 0, 0, 0, 0, 0, 0,\n",
              "       1, 1, 0, 1, 0, 1, 0, 0, 0, 1, 0, 0, 1, 0, 0, 1, 0, 1, 0, 0, 0, 0,\n",
              "       0, 0, 0, 0, 0, 0, 1, 0, 0, 0, 0, 1, 1, 1, 0, 0, 1, 1, 0, 0, 1, 0,\n",
              "       0, 0, 1, 1, 0, 0, 1, 0, 0, 0, 0, 0, 0, 0, 1, 0, 1, 0, 0, 0, 1, 0,\n",
              "       0, 0, 0, 0, 0, 0, 0, 1, 0, 0, 0, 0, 0, 0, 0, 1, 0, 0, 1, 0, 0, 1,\n",
              "       0, 0, 1, 0, 0, 0, 0, 0, 0, 0, 0, 0, 1, 0, 0, 1, 0, 1, 0, 0, 0, 0,\n",
              "       0, 0, 0, 1, 1, 0, 0, 0, 0, 0, 0, 1, 0, 0, 0, 0, 1, 0, 0, 0, 1, 0,\n",
              "       1, 0, 0, 0, 0, 0, 1, 0, 0, 0, 0, 0, 1, 0, 1, 0, 1, 0, 1, 0, 1, 0,\n",
              "       0, 0, 1, 0, 0, 0, 0, 1, 0, 1, 0, 0, 1, 0, 0, 0, 1, 0, 1, 0, 0, 0,\n",
              "       0, 0, 1, 1, 0, 0, 0, 1, 1, 0, 0, 0, 0, 0, 0, 0, 1, 0, 0, 0, 0, 0,\n",
              "       0, 0, 0, 0, 0, 0, 0, 0, 0, 0, 0, 0, 0, 0, 0, 1, 1, 1, 1, 1, 1, 0,\n",
              "       0, 0, 1, 1, 0, 1, 0, 0, 0, 0, 0, 1, 0, 0, 0, 1, 1, 0, 0, 0, 0, 1,\n",
              "       0, 0, 0, 0, 0, 0, 0, 0, 1, 0, 0, 0, 1, 0, 0, 1, 1, 1, 0, 0, 0, 0,\n",
              "       0, 1, 0, 0, 0, 0, 0, 1, 0, 0, 0, 0, 1, 0, 1, 0, 1, 1, 0, 0, 0, 0,\n",
              "       1, 0, 1, 1, 1, 0, 0, 0, 1, 0, 0, 0, 1, 0, 0, 1, 1, 0, 0, 1, 1, 0,\n",
              "       0, 1, 0, 0, 0, 0, 0, 0, 0, 0, 0, 1, 0, 0, 0, 1, 0, 0, 0, 1, 0, 0,\n",
              "       1, 0, 0, 0, 0, 0, 1, 0, 0, 1, 0, 0, 0, 0, 0, 0, 0, 1, 1, 0, 1, 1,\n",
              "       1, 1, 0, 0, 0, 0, 0, 0, 0, 0, 0, 0, 1, 0, 0, 0, 0, 0, 1, 0, 0, 0,\n",
              "       1, 0, 0, 1, 1, 0, 0, 0, 0, 0, 0, 0, 0, 0, 0, 0, 0, 1, 1, 0, 0, 0,\n",
              "       0, 0, 0, 0, 0, 1, 1, 1, 1, 0, 1, 0, 0, 0, 0, 0, 0, 0, 0, 0, 0, 1,\n",
              "       1, 1, 1, 0, 1, 0, 0, 0, 0, 0, 0, 1, 0, 0, 1, 0, 0, 0, 0, 1, 0, 0,\n",
              "       0, 0, 0, 0, 0, 0, 0, 0, 0, 0, 0, 1, 0, 1, 0, 0, 0, 1, 0, 0, 0, 0,\n",
              "       0, 1, 0, 0, 0, 0, 1, 1, 1, 0, 1, 0, 0, 0, 1, 0, 1, 0, 0, 0, 0, 1,\n",
              "       1, 0, 0, 0, 1, 0, 0, 0, 1, 0, 0, 1, 1, 0, 0, 1, 1, 0, 1, 1, 0, 0,\n",
              "       0, 0, 0, 0, 1, 1, 0, 1, 1, 0, 0, 0, 0, 0, 0, 0, 0, 0, 0, 0, 1, 0,\n",
              "       0, 0, 1, 0, 0, 0, 0, 0, 0, 0, 0, 1, 0, 0, 0, 1, 0, 0, 1, 1, 0, 0,\n",
              "       0, 0, 1, 1, 0, 0, 1, 0, 0, 0, 0, 0, 1, 0, 0, 0, 0, 0, 0, 0, 1, 0,\n",
              "       1, 0, 0, 0, 0, 1, 0, 0, 1, 0, 1, 1, 0, 0, 0, 1, 0, 1, 0, 0, 1, 0,\n",
              "       0, 0, 1, 0, 0, 0, 0, 0, 0, 0, 1, 0, 1, 0, 0, 0, 1, 1, 1, 0, 0, 0,\n",
              "       0, 0, 0, 0, 0, 0, 0, 1, 0, 1, 0, 0, 0, 0, 1, 1, 0, 0, 0, 0, 0, 0,\n",
              "       0, 0, 0, 0, 0, 0, 0, 0, 0, 1, 0, 0, 0, 0, 0, 0, 0, 0, 1, 0, 1, 0,\n",
              "       1, 1, 0, 0, 0, 0, 0, 0, 0, 0])"
            ]
          },
          "metadata": {
            "tags": []
          },
          "execution_count": 21
        }
      ]
    },
    {
      "cell_type": "code",
      "metadata": {
        "id": "U2y-6uYKd3uH"
      },
      "source": [
        "model = models.Sequential()\n",
        "model.add(layers.Dense(1, input_shape=(2,), activation='sigmoid'))\n",
        "model.compile(optimizer='adam', loss='mean_squared_error', metrics=[metrics.categorical_accuracy])"
      ],
      "execution_count": 22,
      "outputs": []
    },
    {
      "cell_type": "code",
      "metadata": {
        "colab": {
          "base_uri": "https://localhost:8080/"
        },
        "id": "-6K6xo-eeTUq",
        "outputId": "161b2f8a-9daa-4631-c678-0b0016bc8749"
      },
      "source": [
        "model.fit(X, Y, validation_split=(0.2), epochs=32, verbose=1)"
      ],
      "execution_count": 33,
      "outputs": [
        {
          "output_type": "stream",
          "text": [
            "Epoch 1/32\n",
            "25/25 [==============================] - 0s 4ms/step - loss: 0.1773 - categorical_accuracy: 1.0000 - val_loss: 0.1781 - val_categorical_accuracy: 1.0000\n",
            "Epoch 2/32\n",
            "25/25 [==============================] - 0s 2ms/step - loss: 0.1757 - categorical_accuracy: 1.0000 - val_loss: 0.1766 - val_categorical_accuracy: 1.0000\n",
            "Epoch 3/32\n",
            "25/25 [==============================] - 0s 2ms/step - loss: 0.1741 - categorical_accuracy: 1.0000 - val_loss: 0.1751 - val_categorical_accuracy: 1.0000\n",
            "Epoch 4/32\n",
            "25/25 [==============================] - 0s 2ms/step - loss: 0.1726 - categorical_accuracy: 1.0000 - val_loss: 0.1736 - val_categorical_accuracy: 1.0000\n",
            "Epoch 5/32\n",
            "25/25 [==============================] - 0s 2ms/step - loss: 0.1711 - categorical_accuracy: 1.0000 - val_loss: 0.1721 - val_categorical_accuracy: 1.0000\n",
            "Epoch 6/32\n",
            "25/25 [==============================] - 0s 2ms/step - loss: 0.1696 - categorical_accuracy: 1.0000 - val_loss: 0.1706 - val_categorical_accuracy: 1.0000\n",
            "Epoch 7/32\n",
            "25/25 [==============================] - 0s 2ms/step - loss: 0.1681 - categorical_accuracy: 1.0000 - val_loss: 0.1691 - val_categorical_accuracy: 1.0000\n",
            "Epoch 8/32\n",
            "25/25 [==============================] - 0s 2ms/step - loss: 0.1667 - categorical_accuracy: 1.0000 - val_loss: 0.1677 - val_categorical_accuracy: 1.0000\n",
            "Epoch 9/32\n",
            "25/25 [==============================] - 0s 2ms/step - loss: 0.1652 - categorical_accuracy: 1.0000 - val_loss: 0.1663 - val_categorical_accuracy: 1.0000\n",
            "Epoch 10/32\n",
            "25/25 [==============================] - 0s 2ms/step - loss: 0.1638 - categorical_accuracy: 1.0000 - val_loss: 0.1649 - val_categorical_accuracy: 1.0000\n",
            "Epoch 11/32\n",
            "25/25 [==============================] - 0s 2ms/step - loss: 0.1624 - categorical_accuracy: 1.0000 - val_loss: 0.1635 - val_categorical_accuracy: 1.0000\n",
            "Epoch 12/32\n",
            "25/25 [==============================] - 0s 2ms/step - loss: 0.1610 - categorical_accuracy: 1.0000 - val_loss: 0.1621 - val_categorical_accuracy: 1.0000\n",
            "Epoch 13/32\n",
            "25/25 [==============================] - 0s 2ms/step - loss: 0.1596 - categorical_accuracy: 1.0000 - val_loss: 0.1608 - val_categorical_accuracy: 1.0000\n",
            "Epoch 14/32\n",
            "25/25 [==============================] - 0s 3ms/step - loss: 0.1583 - categorical_accuracy: 1.0000 - val_loss: 0.1595 - val_categorical_accuracy: 1.0000\n",
            "Epoch 15/32\n",
            "25/25 [==============================] - 0s 2ms/step - loss: 0.1569 - categorical_accuracy: 1.0000 - val_loss: 0.1581 - val_categorical_accuracy: 1.0000\n",
            "Epoch 16/32\n",
            "25/25 [==============================] - 0s 2ms/step - loss: 0.1556 - categorical_accuracy: 1.0000 - val_loss: 0.1568 - val_categorical_accuracy: 1.0000\n",
            "Epoch 17/32\n",
            "25/25 [==============================] - 0s 2ms/step - loss: 0.1543 - categorical_accuracy: 1.0000 - val_loss: 0.1555 - val_categorical_accuracy: 1.0000\n",
            "Epoch 18/32\n",
            "25/25 [==============================] - 0s 2ms/step - loss: 0.1530 - categorical_accuracy: 1.0000 - val_loss: 0.1543 - val_categorical_accuracy: 1.0000\n",
            "Epoch 19/32\n",
            "25/25 [==============================] - 0s 2ms/step - loss: 0.1517 - categorical_accuracy: 1.0000 - val_loss: 0.1530 - val_categorical_accuracy: 1.0000\n",
            "Epoch 20/32\n",
            "25/25 [==============================] - 0s 2ms/step - loss: 0.1505 - categorical_accuracy: 1.0000 - val_loss: 0.1518 - val_categorical_accuracy: 1.0000\n",
            "Epoch 21/32\n",
            "25/25 [==============================] - 0s 2ms/step - loss: 0.1492 - categorical_accuracy: 1.0000 - val_loss: 0.1505 - val_categorical_accuracy: 1.0000\n",
            "Epoch 22/32\n",
            "25/25 [==============================] - 0s 3ms/step - loss: 0.1480 - categorical_accuracy: 1.0000 - val_loss: 0.1493 - val_categorical_accuracy: 1.0000\n",
            "Epoch 23/32\n",
            "25/25 [==============================] - 0s 2ms/step - loss: 0.1468 - categorical_accuracy: 1.0000 - val_loss: 0.1481 - val_categorical_accuracy: 1.0000\n",
            "Epoch 24/32\n",
            "25/25 [==============================] - 0s 2ms/step - loss: 0.1456 - categorical_accuracy: 1.0000 - val_loss: 0.1469 - val_categorical_accuracy: 1.0000\n",
            "Epoch 25/32\n",
            "25/25 [==============================] - 0s 2ms/step - loss: 0.1444 - categorical_accuracy: 1.0000 - val_loss: 0.1457 - val_categorical_accuracy: 1.0000\n",
            "Epoch 26/32\n",
            "25/25 [==============================] - 0s 2ms/step - loss: 0.1432 - categorical_accuracy: 1.0000 - val_loss: 0.1446 - val_categorical_accuracy: 1.0000\n",
            "Epoch 27/32\n",
            "25/25 [==============================] - 0s 2ms/step - loss: 0.1420 - categorical_accuracy: 1.0000 - val_loss: 0.1434 - val_categorical_accuracy: 1.0000\n",
            "Epoch 28/32\n",
            "25/25 [==============================] - 0s 2ms/step - loss: 0.1409 - categorical_accuracy: 1.0000 - val_loss: 0.1423 - val_categorical_accuracy: 1.0000\n",
            "Epoch 29/32\n",
            "25/25 [==============================] - 0s 2ms/step - loss: 0.1397 - categorical_accuracy: 1.0000 - val_loss: 0.1411 - val_categorical_accuracy: 1.0000\n",
            "Epoch 30/32\n",
            "25/25 [==============================] - 0s 2ms/step - loss: 0.1386 - categorical_accuracy: 1.0000 - val_loss: 0.1400 - val_categorical_accuracy: 1.0000\n",
            "Epoch 31/32\n",
            "25/25 [==============================] - 0s 2ms/step - loss: 0.1375 - categorical_accuracy: 1.0000 - val_loss: 0.1389 - val_categorical_accuracy: 1.0000\n",
            "Epoch 32/32\n",
            "25/25 [==============================] - 0s 2ms/step - loss: 0.1364 - categorical_accuracy: 1.0000 - val_loss: 0.1378 - val_categorical_accuracy: 1.0000\n"
          ],
          "name": "stdout"
        },
        {
          "output_type": "execute_result",
          "data": {
            "text/plain": [
              "<tensorflow.python.keras.callbacks.History at 0x7fabb5572810>"
            ]
          },
          "metadata": {
            "tags": []
          },
          "execution_count": 33
        }
      ]
    },
    {
      "cell_type": "markdown",
      "metadata": {
        "id": "hl_5tkRzvHka"
      },
      "source": [
        "### **Result**"
      ]
    },
    {
      "cell_type": "code",
      "metadata": {
        "colab": {
          "base_uri": "https://localhost:8080/"
        },
        "id": "FUANNbPmfChq",
        "outputId": "a83f84ce-fa04-4826-96b7-89ee92980a47"
      },
      "source": [
        "print(model.predict([[0,0]]).round())"
      ],
      "execution_count": 70,
      "outputs": [
        {
          "output_type": "stream",
          "text": [
            "[[0.]]\n"
          ],
          "name": "stdout"
        }
      ]
    },
    {
      "cell_type": "code",
      "metadata": {
        "colab": {
          "base_uri": "https://localhost:8080/"
        },
        "id": "FGvYCS_afHZf",
        "outputId": "9e689e83-3f77-4a1b-8586-3fe68ffecfda"
      },
      "source": [
        "print(model.predict([[0,1]]).round())"
      ],
      "execution_count": 71,
      "outputs": [
        {
          "output_type": "stream",
          "text": [
            "[[0.]]\n"
          ],
          "name": "stdout"
        }
      ]
    },
    {
      "cell_type": "code",
      "metadata": {
        "colab": {
          "base_uri": "https://localhost:8080/"
        },
        "id": "eHS3CniMfJSJ",
        "outputId": "d92732a6-1b72-4968-ae79-13925b7975f0"
      },
      "source": [
        "print(model.predict([[1,0]]).round())"
      ],
      "execution_count": 72,
      "outputs": [
        {
          "output_type": "stream",
          "text": [
            "[[0.]]\n"
          ],
          "name": "stdout"
        }
      ]
    },
    {
      "cell_type": "code",
      "metadata": {
        "id": "1zkEaKFpfyjK",
        "colab": {
          "base_uri": "https://localhost:8080/"
        },
        "outputId": "4d6523bb-9b1a-415c-ad72-fccd73386a1e"
      },
      "source": [
        "print(model.predict([[1,1]]).round())"
      ],
      "execution_count": 73,
      "outputs": [
        {
          "output_type": "stream",
          "text": [
            "[[1.]]\n"
          ],
          "name": "stdout"
        }
      ]
    }
  ]
}
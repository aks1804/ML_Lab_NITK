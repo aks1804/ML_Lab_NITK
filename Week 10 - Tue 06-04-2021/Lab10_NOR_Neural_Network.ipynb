{
  "nbformat": 4,
  "nbformat_minor": 0,
  "metadata": {
    "colab": {
      "name": "Lab10_NOR_Neural_Network.ipynb",
      "provenance": []
    },
    "kernelspec": {
      "name": "python3",
      "display_name": "Python 3"
    },
    "language_info": {
      "name": "python"
    }
  },
  "cells": [
    {
      "cell_type": "markdown",
      "metadata": {
        "id": "YkGegG_HJxWB"
      },
      "source": [
        "### **NOR Gate using a Neural Network**"
      ]
    },
    {
      "cell_type": "code",
      "metadata": {
        "id": "3zYNiY3SFYyH"
      },
      "source": [
        "import keras\n",
        "from keras import models\n",
        "from keras import layers\n",
        "from keras import losses \n",
        "from keras import optimizers\n",
        "from keras import metrics \n",
        "import numpy as np\n",
        "import pandas as pd"
      ],
      "execution_count": 17,
      "outputs": []
    },
    {
      "cell_type": "code",
      "metadata": {
        "id": "7pb1cPZuFmBn"
      },
      "source": [
        "X = X = np.array([[0,0],[0,1],[1,0],[1,1]], \"float32\")\n",
        "Y = np.array([[1],[0],[0],[0]], \"float32\")"
      ],
      "execution_count": 18,
      "outputs": []
    },
    {
      "cell_type": "code",
      "metadata": {
        "colab": {
          "base_uri": "https://localhost:8080/"
        },
        "id": "C5e2kzCIHqBo",
        "outputId": "d4aa1dfe-907a-4585-d7f8-9ff324ad2cf6"
      },
      "source": [
        "X"
      ],
      "execution_count": 20,
      "outputs": [
        {
          "output_type": "execute_result",
          "data": {
            "text/plain": [
              "array([[0., 0.],\n",
              "       [0., 1.],\n",
              "       [1., 0.],\n",
              "       [1., 1.]], dtype=float32)"
            ]
          },
          "metadata": {
            "tags": []
          },
          "execution_count": 20
        }
      ]
    },
    {
      "cell_type": "code",
      "metadata": {
        "colab": {
          "base_uri": "https://localhost:8080/"
        },
        "id": "RkaleMNvHrdR",
        "outputId": "ee2f82c0-7a17-4139-ba55-691501baecea"
      },
      "source": [
        "Y"
      ],
      "execution_count": 21,
      "outputs": [
        {
          "output_type": "execute_result",
          "data": {
            "text/plain": [
              "array([[1.],\n",
              "       [0.],\n",
              "       [0.],\n",
              "       [0.]], dtype=float32)"
            ]
          },
          "metadata": {
            "tags": []
          },
          "execution_count": 21
        }
      ]
    },
    {
      "cell_type": "code",
      "metadata": {
        "id": "YHHf_nw6HsFL"
      },
      "source": [
        "model = models.Sequential()\n",
        "model.add(layers.Dense(16, input_dim=2, activation='relu'))\n",
        "model.add(layers.Dense(1, activation='sigmoid'))\n",
        "model.compile(loss='mean_squared_error', optimizer='adam', metrics=['binary_accuracy'])"
      ],
      "execution_count": 22,
      "outputs": []
    },
    {
      "cell_type": "code",
      "metadata": {
        "colab": {
          "base_uri": "https://localhost:8080/"
        },
        "id": "a_8dkq2BH1Jz",
        "outputId": "3297563c-c196-487f-8592-1f78f9bb9824"
      },
      "source": [
        "model.fit(X, Y, epochs=200)"
      ],
      "execution_count": 23,
      "outputs": [
        {
          "output_type": "stream",
          "text": [
            "Epoch 1/200\n",
            "1/1 [==============================] - 0s 381ms/step - loss: 0.1526 - binary_accuracy: 0.7500\n",
            "Epoch 2/200\n",
            "1/1 [==============================] - 0s 4ms/step - loss: 0.1517 - binary_accuracy: 0.7500\n",
            "Epoch 3/200\n",
            "1/1 [==============================] - 0s 8ms/step - loss: 0.1508 - binary_accuracy: 0.7500\n",
            "Epoch 4/200\n",
            "1/1 [==============================] - 0s 8ms/step - loss: 0.1499 - binary_accuracy: 0.7500\n",
            "Epoch 5/200\n",
            "1/1 [==============================] - 0s 6ms/step - loss: 0.1491 - binary_accuracy: 0.7500\n",
            "Epoch 6/200\n",
            "1/1 [==============================] - 0s 10ms/step - loss: 0.1482 - binary_accuracy: 0.7500\n",
            "Epoch 7/200\n",
            "1/1 [==============================] - 0s 4ms/step - loss: 0.1474 - binary_accuracy: 0.7500\n",
            "Epoch 8/200\n",
            "1/1 [==============================] - 0s 6ms/step - loss: 0.1466 - binary_accuracy: 0.7500\n",
            "Epoch 9/200\n",
            "1/1 [==============================] - 0s 7ms/step - loss: 0.1458 - binary_accuracy: 0.7500\n",
            "Epoch 10/200\n",
            "1/1 [==============================] - 0s 5ms/step - loss: 0.1450 - binary_accuracy: 0.7500\n",
            "Epoch 11/200\n",
            "1/1 [==============================] - 0s 8ms/step - loss: 0.1442 - binary_accuracy: 0.7500\n",
            "Epoch 12/200\n",
            "1/1 [==============================] - 0s 4ms/step - loss: 0.1434 - binary_accuracy: 0.7500\n",
            "Epoch 13/200\n",
            "1/1 [==============================] - 0s 5ms/step - loss: 0.1427 - binary_accuracy: 0.7500\n",
            "Epoch 14/200\n",
            "1/1 [==============================] - 0s 5ms/step - loss: 0.1419 - binary_accuracy: 0.7500\n",
            "Epoch 15/200\n",
            "1/1 [==============================] - 0s 8ms/step - loss: 0.1412 - binary_accuracy: 0.7500\n",
            "Epoch 16/200\n",
            "1/1 [==============================] - 0s 6ms/step - loss: 0.1405 - binary_accuracy: 0.7500\n",
            "Epoch 17/200\n",
            "1/1 [==============================] - 0s 9ms/step - loss: 0.1398 - binary_accuracy: 0.7500\n",
            "Epoch 18/200\n",
            "1/1 [==============================] - 0s 6ms/step - loss: 0.1391 - binary_accuracy: 0.7500\n",
            "Epoch 19/200\n",
            "1/1 [==============================] - 0s 6ms/step - loss: 0.1384 - binary_accuracy: 0.7500\n",
            "Epoch 20/200\n",
            "1/1 [==============================] - 0s 13ms/step - loss: 0.1378 - binary_accuracy: 0.7500\n",
            "Epoch 21/200\n",
            "1/1 [==============================] - 0s 12ms/step - loss: 0.1371 - binary_accuracy: 0.7500\n",
            "Epoch 22/200\n",
            "1/1 [==============================] - 0s 9ms/step - loss: 0.1364 - binary_accuracy: 0.7500\n",
            "Epoch 23/200\n",
            "1/1 [==============================] - 0s 8ms/step - loss: 0.1358 - binary_accuracy: 0.7500\n",
            "Epoch 24/200\n",
            "1/1 [==============================] - 0s 5ms/step - loss: 0.1352 - binary_accuracy: 0.7500\n",
            "Epoch 25/200\n",
            "1/1 [==============================] - 0s 6ms/step - loss: 0.1346 - binary_accuracy: 0.7500\n",
            "Epoch 26/200\n",
            "1/1 [==============================] - 0s 14ms/step - loss: 0.1339 - binary_accuracy: 0.7500\n",
            "Epoch 27/200\n",
            "1/1 [==============================] - 0s 8ms/step - loss: 0.1333 - binary_accuracy: 0.7500\n",
            "Epoch 28/200\n",
            "1/1 [==============================] - 0s 8ms/step - loss: 0.1327 - binary_accuracy: 0.7500\n",
            "Epoch 29/200\n",
            "1/1 [==============================] - 0s 4ms/step - loss: 0.1322 - binary_accuracy: 0.7500\n",
            "Epoch 30/200\n",
            "1/1 [==============================] - 0s 7ms/step - loss: 0.1316 - binary_accuracy: 0.7500\n",
            "Epoch 31/200\n",
            "1/1 [==============================] - 0s 4ms/step - loss: 0.1310 - binary_accuracy: 0.7500\n",
            "Epoch 32/200\n",
            "1/1 [==============================] - 0s 6ms/step - loss: 0.1304 - binary_accuracy: 0.7500\n",
            "Epoch 33/200\n",
            "1/1 [==============================] - 0s 6ms/step - loss: 0.1299 - binary_accuracy: 0.7500\n",
            "Epoch 34/200\n",
            "1/1 [==============================] - 0s 6ms/step - loss: 0.1293 - binary_accuracy: 0.7500\n",
            "Epoch 35/200\n",
            "1/1 [==============================] - 0s 7ms/step - loss: 0.1288 - binary_accuracy: 0.7500\n",
            "Epoch 36/200\n",
            "1/1 [==============================] - 0s 5ms/step - loss: 0.1283 - binary_accuracy: 0.7500\n",
            "Epoch 37/200\n",
            "1/1 [==============================] - 0s 6ms/step - loss: 0.1277 - binary_accuracy: 0.7500\n",
            "Epoch 38/200\n",
            "1/1 [==============================] - 0s 5ms/step - loss: 0.1272 - binary_accuracy: 0.7500\n",
            "Epoch 39/200\n",
            "1/1 [==============================] - 0s 6ms/step - loss: 0.1267 - binary_accuracy: 0.7500\n",
            "Epoch 40/200\n",
            "1/1 [==============================] - 0s 5ms/step - loss: 0.1262 - binary_accuracy: 0.7500\n",
            "Epoch 41/200\n",
            "1/1 [==============================] - 0s 4ms/step - loss: 0.1258 - binary_accuracy: 0.7500\n",
            "Epoch 42/200\n",
            "1/1 [==============================] - 0s 4ms/step - loss: 0.1253 - binary_accuracy: 0.7500\n",
            "Epoch 43/200\n",
            "1/1 [==============================] - 0s 6ms/step - loss: 0.1248 - binary_accuracy: 0.7500\n",
            "Epoch 44/200\n",
            "1/1 [==============================] - 0s 4ms/step - loss: 0.1243 - binary_accuracy: 0.7500\n",
            "Epoch 45/200\n",
            "1/1 [==============================] - 0s 7ms/step - loss: 0.1239 - binary_accuracy: 0.7500\n",
            "Epoch 46/200\n",
            "1/1 [==============================] - 0s 6ms/step - loss: 0.1234 - binary_accuracy: 0.7500\n",
            "Epoch 47/200\n",
            "1/1 [==============================] - 0s 6ms/step - loss: 0.1230 - binary_accuracy: 0.7500\n",
            "Epoch 48/200\n",
            "1/1 [==============================] - 0s 7ms/step - loss: 0.1226 - binary_accuracy: 0.7500\n",
            "Epoch 49/200\n",
            "1/1 [==============================] - 0s 5ms/step - loss: 0.1221 - binary_accuracy: 0.7500\n",
            "Epoch 50/200\n",
            "1/1 [==============================] - 0s 6ms/step - loss: 0.1217 - binary_accuracy: 0.7500\n",
            "Epoch 51/200\n",
            "1/1 [==============================] - 0s 5ms/step - loss: 0.1213 - binary_accuracy: 0.7500\n",
            "Epoch 52/200\n",
            "1/1 [==============================] - 0s 6ms/step - loss: 0.1209 - binary_accuracy: 0.7500\n",
            "Epoch 53/200\n",
            "1/1 [==============================] - 0s 5ms/step - loss: 0.1205 - binary_accuracy: 0.7500\n",
            "Epoch 54/200\n",
            "1/1 [==============================] - 0s 6ms/step - loss: 0.1201 - binary_accuracy: 0.7500\n",
            "Epoch 55/200\n",
            "1/1 [==============================] - 0s 8ms/step - loss: 0.1197 - binary_accuracy: 0.7500\n",
            "Epoch 56/200\n",
            "1/1 [==============================] - 0s 6ms/step - loss: 0.1193 - binary_accuracy: 0.7500\n",
            "Epoch 57/200\n",
            "1/1 [==============================] - 0s 7ms/step - loss: 0.1189 - binary_accuracy: 0.7500\n",
            "Epoch 58/200\n",
            "1/1 [==============================] - 0s 4ms/step - loss: 0.1185 - binary_accuracy: 0.7500\n",
            "Epoch 59/200\n",
            "1/1 [==============================] - 0s 5ms/step - loss: 0.1181 - binary_accuracy: 0.7500\n",
            "Epoch 60/200\n",
            "1/1 [==============================] - 0s 17ms/step - loss: 0.1178 - binary_accuracy: 0.7500\n",
            "Epoch 61/200\n",
            "1/1 [==============================] - 0s 6ms/step - loss: 0.1174 - binary_accuracy: 0.7500\n",
            "Epoch 62/200\n",
            "1/1 [==============================] - 0s 4ms/step - loss: 0.1171 - binary_accuracy: 0.7500\n",
            "Epoch 63/200\n",
            "1/1 [==============================] - 0s 6ms/step - loss: 0.1167 - binary_accuracy: 0.7500\n",
            "Epoch 64/200\n",
            "1/1 [==============================] - 0s 4ms/step - loss: 0.1164 - binary_accuracy: 0.7500\n",
            "Epoch 65/200\n",
            "1/1 [==============================] - 0s 7ms/step - loss: 0.1160 - binary_accuracy: 0.7500\n",
            "Epoch 66/200\n",
            "1/1 [==============================] - 0s 4ms/step - loss: 0.1156 - binary_accuracy: 0.7500\n",
            "Epoch 67/200\n",
            "1/1 [==============================] - 0s 8ms/step - loss: 0.1153 - binary_accuracy: 0.7500\n",
            "Epoch 68/200\n",
            "1/1 [==============================] - 0s 7ms/step - loss: 0.1149 - binary_accuracy: 0.7500\n",
            "Epoch 69/200\n",
            "1/1 [==============================] - 0s 5ms/step - loss: 0.1146 - binary_accuracy: 0.7500\n",
            "Epoch 70/200\n",
            "1/1 [==============================] - 0s 4ms/step - loss: 0.1142 - binary_accuracy: 0.7500\n",
            "Epoch 71/200\n",
            "1/1 [==============================] - 0s 6ms/step - loss: 0.1139 - binary_accuracy: 0.7500\n",
            "Epoch 72/200\n",
            "1/1 [==============================] - 0s 5ms/step - loss: 0.1136 - binary_accuracy: 0.7500\n",
            "Epoch 73/200\n",
            "1/1 [==============================] - 0s 5ms/step - loss: 0.1132 - binary_accuracy: 0.7500\n",
            "Epoch 74/200\n",
            "1/1 [==============================] - 0s 18ms/step - loss: 0.1129 - binary_accuracy: 0.7500\n",
            "Epoch 75/200\n",
            "1/1 [==============================] - 0s 9ms/step - loss: 0.1125 - binary_accuracy: 0.7500\n",
            "Epoch 76/200\n",
            "1/1 [==============================] - 0s 17ms/step - loss: 0.1122 - binary_accuracy: 0.7500\n",
            "Epoch 77/200\n",
            "1/1 [==============================] - 0s 12ms/step - loss: 0.1119 - binary_accuracy: 0.7500\n",
            "Epoch 78/200\n",
            "1/1 [==============================] - 0s 4ms/step - loss: 0.1116 - binary_accuracy: 0.7500\n",
            "Epoch 79/200\n",
            "1/1 [==============================] - 0s 5ms/step - loss: 0.1112 - binary_accuracy: 0.7500\n",
            "Epoch 80/200\n",
            "1/1 [==============================] - 0s 8ms/step - loss: 0.1109 - binary_accuracy: 0.7500\n",
            "Epoch 81/200\n",
            "1/1 [==============================] - 0s 4ms/step - loss: 0.1106 - binary_accuracy: 0.7500\n",
            "Epoch 82/200\n",
            "1/1 [==============================] - 0s 4ms/step - loss: 0.1103 - binary_accuracy: 0.7500\n",
            "Epoch 83/200\n",
            "1/1 [==============================] - 0s 5ms/step - loss: 0.1100 - binary_accuracy: 0.7500\n",
            "Epoch 84/200\n",
            "1/1 [==============================] - 0s 6ms/step - loss: 0.1097 - binary_accuracy: 0.7500\n",
            "Epoch 85/200\n",
            "1/1 [==============================] - 0s 4ms/step - loss: 0.1094 - binary_accuracy: 0.7500\n",
            "Epoch 86/200\n",
            "1/1 [==============================] - 0s 3ms/step - loss: 0.1090 - binary_accuracy: 0.7500\n",
            "Epoch 87/200\n",
            "1/1 [==============================] - 0s 5ms/step - loss: 0.1087 - binary_accuracy: 0.7500\n",
            "Epoch 88/200\n",
            "1/1 [==============================] - 0s 8ms/step - loss: 0.1084 - binary_accuracy: 0.7500\n",
            "Epoch 89/200\n",
            "1/1 [==============================] - 0s 4ms/step - loss: 0.1082 - binary_accuracy: 0.7500\n",
            "Epoch 90/200\n",
            "1/1 [==============================] - 0s 6ms/step - loss: 0.1079 - binary_accuracy: 0.7500\n",
            "Epoch 91/200\n",
            "1/1 [==============================] - 0s 4ms/step - loss: 0.1076 - binary_accuracy: 0.7500\n",
            "Epoch 92/200\n",
            "1/1 [==============================] - 0s 6ms/step - loss: 0.1073 - binary_accuracy: 0.7500\n",
            "Epoch 93/200\n",
            "1/1 [==============================] - 0s 6ms/step - loss: 0.1070 - binary_accuracy: 0.7500\n",
            "Epoch 94/200\n",
            "1/1 [==============================] - 0s 7ms/step - loss: 0.1067 - binary_accuracy: 0.7500\n",
            "Epoch 95/200\n",
            "1/1 [==============================] - 0s 5ms/step - loss: 0.1064 - binary_accuracy: 0.7500\n",
            "Epoch 96/200\n",
            "1/1 [==============================] - 0s 7ms/step - loss: 0.1061 - binary_accuracy: 0.7500\n",
            "Epoch 97/200\n",
            "1/1 [==============================] - 0s 10ms/step - loss: 0.1058 - binary_accuracy: 0.7500\n",
            "Epoch 98/200\n",
            "1/1 [==============================] - 0s 5ms/step - loss: 0.1055 - binary_accuracy: 0.7500\n",
            "Epoch 99/200\n",
            "1/1 [==============================] - 0s 4ms/step - loss: 0.1052 - binary_accuracy: 0.7500\n",
            "Epoch 100/200\n",
            "1/1 [==============================] - 0s 10ms/step - loss: 0.1050 - binary_accuracy: 0.7500\n",
            "Epoch 101/200\n",
            "1/1 [==============================] - 0s 14ms/step - loss: 0.1047 - binary_accuracy: 0.7500\n",
            "Epoch 102/200\n",
            "1/1 [==============================] - 0s 11ms/step - loss: 0.1044 - binary_accuracy: 0.7500\n",
            "Epoch 103/200\n",
            "1/1 [==============================] - 0s 9ms/step - loss: 0.1041 - binary_accuracy: 0.7500\n",
            "Epoch 104/200\n",
            "1/1 [==============================] - 0s 5ms/step - loss: 0.1038 - binary_accuracy: 0.7500\n",
            "Epoch 105/200\n",
            "1/1 [==============================] - 0s 5ms/step - loss: 0.1036 - binary_accuracy: 0.7500\n",
            "Epoch 106/200\n",
            "1/1 [==============================] - 0s 6ms/step - loss: 0.1033 - binary_accuracy: 0.7500\n",
            "Epoch 107/200\n",
            "1/1 [==============================] - 0s 10ms/step - loss: 0.1030 - binary_accuracy: 0.7500\n",
            "Epoch 108/200\n",
            "1/1 [==============================] - 0s 9ms/step - loss: 0.1027 - binary_accuracy: 0.7500\n",
            "Epoch 109/200\n",
            "1/1 [==============================] - 0s 6ms/step - loss: 0.1024 - binary_accuracy: 0.7500\n",
            "Epoch 110/200\n",
            "1/1 [==============================] - 0s 4ms/step - loss: 0.1022 - binary_accuracy: 0.7500\n",
            "Epoch 111/200\n",
            "1/1 [==============================] - 0s 6ms/step - loss: 0.1019 - binary_accuracy: 0.7500\n",
            "Epoch 112/200\n",
            "1/1 [==============================] - 0s 5ms/step - loss: 0.1016 - binary_accuracy: 0.7500\n",
            "Epoch 113/200\n",
            "1/1 [==============================] - 0s 6ms/step - loss: 0.1013 - binary_accuracy: 0.7500\n",
            "Epoch 114/200\n",
            "1/1 [==============================] - 0s 3ms/step - loss: 0.1011 - binary_accuracy: 0.7500\n",
            "Epoch 115/200\n",
            "1/1 [==============================] - 0s 4ms/step - loss: 0.1008 - binary_accuracy: 0.7500\n",
            "Epoch 116/200\n",
            "1/1 [==============================] - 0s 5ms/step - loss: 0.1005 - binary_accuracy: 0.7500\n",
            "Epoch 117/200\n",
            "1/1 [==============================] - 0s 5ms/step - loss: 0.1002 - binary_accuracy: 0.7500\n",
            "Epoch 118/200\n",
            "1/1 [==============================] - 0s 6ms/step - loss: 0.1000 - binary_accuracy: 0.7500\n",
            "Epoch 119/200\n",
            "1/1 [==============================] - 0s 3ms/step - loss: 0.0997 - binary_accuracy: 0.7500\n",
            "Epoch 120/200\n",
            "1/1 [==============================] - 0s 4ms/step - loss: 0.0994 - binary_accuracy: 0.7500\n",
            "Epoch 121/200\n",
            "1/1 [==============================] - 0s 9ms/step - loss: 0.0992 - binary_accuracy: 0.7500\n",
            "Epoch 122/200\n",
            "1/1 [==============================] - 0s 7ms/step - loss: 0.0989 - binary_accuracy: 0.7500\n",
            "Epoch 123/200\n",
            "1/1 [==============================] - 0s 15ms/step - loss: 0.0986 - binary_accuracy: 0.7500\n",
            "Epoch 124/200\n",
            "1/1 [==============================] - 0s 6ms/step - loss: 0.0983 - binary_accuracy: 0.7500\n",
            "Epoch 125/200\n",
            "1/1 [==============================] - 0s 6ms/step - loss: 0.0981 - binary_accuracy: 0.7500\n",
            "Epoch 126/200\n",
            "1/1 [==============================] - 0s 7ms/step - loss: 0.0978 - binary_accuracy: 0.7500\n",
            "Epoch 127/200\n",
            "1/1 [==============================] - 0s 5ms/step - loss: 0.0975 - binary_accuracy: 0.7500\n",
            "Epoch 128/200\n",
            "1/1 [==============================] - 0s 9ms/step - loss: 0.0973 - binary_accuracy: 0.7500\n",
            "Epoch 129/200\n",
            "1/1 [==============================] - 0s 11ms/step - loss: 0.0970 - binary_accuracy: 0.7500\n",
            "Epoch 130/200\n",
            "1/1 [==============================] - 0s 5ms/step - loss: 0.0967 - binary_accuracy: 0.7500\n",
            "Epoch 131/200\n",
            "1/1 [==============================] - 0s 61ms/step - loss: 0.0964 - binary_accuracy: 0.7500\n",
            "Epoch 132/200\n",
            "1/1 [==============================] - 0s 23ms/step - loss: 0.0962 - binary_accuracy: 0.7500\n",
            "Epoch 133/200\n",
            "1/1 [==============================] - 0s 5ms/step - loss: 0.0959 - binary_accuracy: 0.7500\n",
            "Epoch 134/200\n",
            "1/1 [==============================] - 0s 6ms/step - loss: 0.0956 - binary_accuracy: 0.7500\n",
            "Epoch 135/200\n",
            "1/1 [==============================] - 0s 6ms/step - loss: 0.0953 - binary_accuracy: 0.7500\n",
            "Epoch 136/200\n",
            "1/1 [==============================] - 0s 7ms/step - loss: 0.0951 - binary_accuracy: 0.7500\n",
            "Epoch 137/200\n",
            "1/1 [==============================] - 0s 4ms/step - loss: 0.0948 - binary_accuracy: 0.7500\n",
            "Epoch 138/200\n",
            "1/1 [==============================] - 0s 6ms/step - loss: 0.0945 - binary_accuracy: 0.7500\n",
            "Epoch 139/200\n",
            "1/1 [==============================] - 0s 11ms/step - loss: 0.0943 - binary_accuracy: 0.7500\n",
            "Epoch 140/200\n",
            "1/1 [==============================] - 0s 23ms/step - loss: 0.0940 - binary_accuracy: 0.7500\n",
            "Epoch 141/200\n",
            "1/1 [==============================] - 0s 14ms/step - loss: 0.0937 - binary_accuracy: 0.7500\n",
            "Epoch 142/200\n",
            "1/1 [==============================] - 0s 11ms/step - loss: 0.0935 - binary_accuracy: 0.7500\n",
            "Epoch 143/200\n",
            "1/1 [==============================] - 0s 7ms/step - loss: 0.0932 - binary_accuracy: 0.7500\n",
            "Epoch 144/200\n",
            "1/1 [==============================] - 0s 5ms/step - loss: 0.0929 - binary_accuracy: 0.7500\n",
            "Epoch 145/200\n",
            "1/1 [==============================] - 0s 7ms/step - loss: 0.0927 - binary_accuracy: 0.7500\n",
            "Epoch 146/200\n",
            "1/1 [==============================] - 0s 5ms/step - loss: 0.0924 - binary_accuracy: 0.7500\n",
            "Epoch 147/200\n",
            "1/1 [==============================] - 0s 7ms/step - loss: 0.0921 - binary_accuracy: 0.7500\n",
            "Epoch 148/200\n",
            "1/1 [==============================] - 0s 4ms/step - loss: 0.0918 - binary_accuracy: 0.7500\n",
            "Epoch 149/200\n",
            "1/1 [==============================] - 0s 6ms/step - loss: 0.0916 - binary_accuracy: 0.7500\n",
            "Epoch 150/200\n",
            "1/1 [==============================] - 0s 4ms/step - loss: 0.0913 - binary_accuracy: 0.7500\n",
            "Epoch 151/200\n",
            "1/1 [==============================] - 0s 9ms/step - loss: 0.0911 - binary_accuracy: 0.7500\n",
            "Epoch 152/200\n",
            "1/1 [==============================] - 0s 12ms/step - loss: 0.0908 - binary_accuracy: 0.7500\n",
            "Epoch 153/200\n",
            "1/1 [==============================] - 0s 8ms/step - loss: 0.0906 - binary_accuracy: 0.7500\n",
            "Epoch 154/200\n",
            "1/1 [==============================] - 0s 10ms/step - loss: 0.0904 - binary_accuracy: 0.7500\n",
            "Epoch 155/200\n",
            "1/1 [==============================] - 0s 10ms/step - loss: 0.0901 - binary_accuracy: 0.7500\n",
            "Epoch 156/200\n",
            "1/1 [==============================] - 0s 5ms/step - loss: 0.0899 - binary_accuracy: 0.7500\n",
            "Epoch 157/200\n",
            "1/1 [==============================] - 0s 5ms/step - loss: 0.0897 - binary_accuracy: 0.7500\n",
            "Epoch 158/200\n",
            "1/1 [==============================] - 0s 4ms/step - loss: 0.0894 - binary_accuracy: 0.7500\n",
            "Epoch 159/200\n",
            "1/1 [==============================] - 0s 4ms/step - loss: 0.0892 - binary_accuracy: 0.7500\n",
            "Epoch 160/200\n",
            "1/1 [==============================] - 0s 4ms/step - loss: 0.0889 - binary_accuracy: 0.7500\n",
            "Epoch 161/200\n",
            "1/1 [==============================] - 0s 7ms/step - loss: 0.0887 - binary_accuracy: 0.7500\n",
            "Epoch 162/200\n",
            "1/1 [==============================] - 0s 5ms/step - loss: 0.0884 - binary_accuracy: 0.7500\n",
            "Epoch 163/200\n",
            "1/1 [==============================] - 0s 6ms/step - loss: 0.0882 - binary_accuracy: 0.7500\n",
            "Epoch 164/200\n",
            "1/1 [==============================] - 0s 5ms/step - loss: 0.0880 - binary_accuracy: 1.0000\n",
            "Epoch 165/200\n",
            "1/1 [==============================] - 0s 9ms/step - loss: 0.0877 - binary_accuracy: 1.0000\n",
            "Epoch 166/200\n",
            "1/1 [==============================] - 0s 4ms/step - loss: 0.0875 - binary_accuracy: 1.0000\n",
            "Epoch 167/200\n",
            "1/1 [==============================] - 0s 4ms/step - loss: 0.0872 - binary_accuracy: 1.0000\n",
            "Epoch 168/200\n",
            "1/1 [==============================] - 0s 4ms/step - loss: 0.0870 - binary_accuracy: 1.0000\n",
            "Epoch 169/200\n",
            "1/1 [==============================] - 0s 6ms/step - loss: 0.0867 - binary_accuracy: 1.0000\n",
            "Epoch 170/200\n",
            "1/1 [==============================] - 0s 4ms/step - loss: 0.0865 - binary_accuracy: 1.0000\n",
            "Epoch 171/200\n",
            "1/1 [==============================] - 0s 8ms/step - loss: 0.0862 - binary_accuracy: 1.0000\n",
            "Epoch 172/200\n",
            "1/1 [==============================] - 0s 4ms/step - loss: 0.0860 - binary_accuracy: 1.0000\n",
            "Epoch 173/200\n",
            "1/1 [==============================] - 0s 4ms/step - loss: 0.0858 - binary_accuracy: 1.0000\n",
            "Epoch 174/200\n",
            "1/1 [==============================] - 0s 6ms/step - loss: 0.0855 - binary_accuracy: 1.0000\n",
            "Epoch 175/200\n",
            "1/1 [==============================] - 0s 6ms/step - loss: 0.0853 - binary_accuracy: 1.0000\n",
            "Epoch 176/200\n",
            "1/1 [==============================] - 0s 4ms/step - loss: 0.0850 - binary_accuracy: 1.0000\n",
            "Epoch 177/200\n",
            "1/1 [==============================] - 0s 6ms/step - loss: 0.0848 - binary_accuracy: 1.0000\n",
            "Epoch 178/200\n",
            "1/1 [==============================] - 0s 7ms/step - loss: 0.0846 - binary_accuracy: 1.0000\n",
            "Epoch 179/200\n",
            "1/1 [==============================] - 0s 4ms/step - loss: 0.0843 - binary_accuracy: 1.0000\n",
            "Epoch 180/200\n",
            "1/1 [==============================] - 0s 18ms/step - loss: 0.0841 - binary_accuracy: 1.0000\n",
            "Epoch 181/200\n",
            "1/1 [==============================] - 0s 17ms/step - loss: 0.0839 - binary_accuracy: 1.0000\n",
            "Epoch 182/200\n",
            "1/1 [==============================] - 0s 25ms/step - loss: 0.0836 - binary_accuracy: 1.0000\n",
            "Epoch 183/200\n",
            "1/1 [==============================] - 0s 17ms/step - loss: 0.0834 - binary_accuracy: 1.0000\n",
            "Epoch 184/200\n",
            "1/1 [==============================] - 0s 17ms/step - loss: 0.0832 - binary_accuracy: 1.0000\n",
            "Epoch 185/200\n",
            "1/1 [==============================] - 0s 10ms/step - loss: 0.0829 - binary_accuracy: 1.0000\n",
            "Epoch 186/200\n",
            "1/1 [==============================] - 0s 9ms/step - loss: 0.0827 - binary_accuracy: 1.0000\n",
            "Epoch 187/200\n",
            "1/1 [==============================] - 0s 5ms/step - loss: 0.0825 - binary_accuracy: 1.0000\n",
            "Epoch 188/200\n",
            "1/1 [==============================] - 0s 6ms/step - loss: 0.0823 - binary_accuracy: 1.0000\n",
            "Epoch 189/200\n",
            "1/1 [==============================] - 0s 7ms/step - loss: 0.0820 - binary_accuracy: 1.0000\n",
            "Epoch 190/200\n",
            "1/1 [==============================] - 0s 6ms/step - loss: 0.0818 - binary_accuracy: 1.0000\n",
            "Epoch 191/200\n",
            "1/1 [==============================] - 0s 11ms/step - loss: 0.0816 - binary_accuracy: 1.0000\n",
            "Epoch 192/200\n",
            "1/1 [==============================] - 0s 182ms/step - loss: 0.0814 - binary_accuracy: 1.0000\n",
            "Epoch 193/200\n",
            "1/1 [==============================] - 0s 7ms/step - loss: 0.0812 - binary_accuracy: 1.0000\n",
            "Epoch 194/200\n",
            "1/1 [==============================] - 0s 14ms/step - loss: 0.0809 - binary_accuracy: 1.0000\n",
            "Epoch 195/200\n",
            "1/1 [==============================] - 0s 5ms/step - loss: 0.0807 - binary_accuracy: 1.0000\n",
            "Epoch 196/200\n",
            "1/1 [==============================] - 0s 6ms/step - loss: 0.0805 - binary_accuracy: 1.0000\n",
            "Epoch 197/200\n",
            "1/1 [==============================] - 0s 18ms/step - loss: 0.0803 - binary_accuracy: 1.0000\n",
            "Epoch 198/200\n",
            "1/1 [==============================] - 0s 5ms/step - loss: 0.0801 - binary_accuracy: 1.0000\n",
            "Epoch 199/200\n",
            "1/1 [==============================] - 0s 8ms/step - loss: 0.0798 - binary_accuracy: 1.0000\n",
            "Epoch 200/200\n",
            "1/1 [==============================] - 0s 10ms/step - loss: 0.0796 - binary_accuracy: 1.0000\n"
          ],
          "name": "stdout"
        },
        {
          "output_type": "execute_result",
          "data": {
            "text/plain": [
              "<tensorflow.python.keras.callbacks.History at 0x7fea15f59250>"
            ]
          },
          "metadata": {
            "tags": []
          },
          "execution_count": 23
        }
      ]
    },
    {
      "cell_type": "markdown",
      "metadata": {
        "id": "cF6iIz9sJty5"
      },
      "source": [
        "### **Results**"
      ]
    },
    {
      "cell_type": "code",
      "metadata": {
        "colab": {
          "base_uri": "https://localhost:8080/"
        },
        "id": "FaVbNjiEJeIC",
        "outputId": "9ac001fb-6a9c-4b8a-a962-13de4a4ef929"
      },
      "source": [
        "scores = model.evaluate(X, Y)\n",
        "print(\"\\n%s: %.2f%%\" % (model.metrics_names[1], scores[1]*100))"
      ],
      "execution_count": 25,
      "outputs": [
        {
          "output_type": "stream",
          "text": [
            "1/1 [==============================] - 0s 91ms/step - loss: 0.0794 - binary_accuracy: 1.0000\n",
            "\n",
            "binary_accuracy: 100.00%\n"
          ],
          "name": "stdout"
        }
      ]
    },
    {
      "cell_type": "code",
      "metadata": {
        "colab": {
          "base_uri": "https://localhost:8080/"
        },
        "id": "lnXWULYDH38k",
        "outputId": "976308ac-bd9e-4ff4-df8f-801902e8ce2b"
      },
      "source": [
        "X1 = np.array([[0,0]])\n",
        "X2 = np.array([[0,1]])\n",
        "X3 = np.array([[1,0]])\n",
        "X4 = np.array([[1,1]])\n",
        "print(\"Truth Table\\n\\n  A B\\t\\tA NOR B\")\n",
        "print(X1,\"\\t\", model.predict_classes(X1))\n",
        "print(X2,\"\\t\", model.predict_classes(X2))\n",
        "print(X3,\"\\t\", model.predict_classes(X3))\n",
        "print(X4,\"\\t\", model.predict_classes(X4))\n",
        "print(\"\\n______________________\\n\")"
      ],
      "execution_count": 26,
      "outputs": [
        {
          "output_type": "stream",
          "text": [
            "Truth Table\n",
            "\n",
            "  A B\t\tA NOR B\n",
            "[[0 0]] \t [[1]]\n",
            "[[0 1]] \t [[0]]\n",
            "[[1 0]] \t [[0]]\n",
            "[[1 1]] \t [[0]]\n",
            "\n",
            "______________________\n",
            "\n"
          ],
          "name": "stdout"
        },
        {
          "output_type": "stream",
          "text": [
            "/usr/local/lib/python3.7/dist-packages/tensorflow/python/keras/engine/sequential.py:450: UserWarning: `model.predict_classes()` is deprecated and will be removed after 2021-01-01. Please use instead:* `np.argmax(model.predict(x), axis=-1)`,   if your model does multi-class classification   (e.g. if it uses a `softmax` last-layer activation).* `(model.predict(x) > 0.5).astype(\"int32\")`,   if your model does binary classification   (e.g. if it uses a `sigmoid` last-layer activation).\n",
            "  warnings.warn('`model.predict_classes()` is deprecated and '\n"
          ],
          "name": "stderr"
        }
      ]
    },
    {
      "cell_type": "code",
      "metadata": {
        "id": "muASb_2qIPb2"
      },
      "source": [
        ""
      ],
      "execution_count": null,
      "outputs": []
    }
  ]
}